{
 "cells": [
  {
   "cell_type": "code",
   "execution_count": 1,
   "id": "e332ef8b-023e-483c-be6f-0f9278bceb54",
   "metadata": {},
   "outputs": [],
   "source": [
    "\n",
    "#Q1)\n",
    "a = 'a string'\n",
    "l = [2,3,5]\n",
    "b = 2.0\n",
    "c = (12,13,14)"
   ]
  },
  {
   "cell_type": "code",
   "execution_count": 2,
   "id": "4fe5c1a4-4404-4c15-b869-df0abec632f6",
   "metadata": {},
   "outputs": [],
   "source": [
    "#Q2)Datatypes\n",
    "var1 = str()\n",
    "var2 = str()\n",
    "var3 = list()\n",
    "var4 = int()"
   ]
  },
  {
   "cell_type": "code",
   "execution_count": 3,
   "id": "28749e6a-be2d-4212-aae1-69acb16082de",
   "metadata": {},
   "outputs": [
    {
     "data": {
      "text/plain": [
       "2.0"
      ]
     },
     "execution_count": 3,
     "metadata": {},
     "output_type": "execute_result"
    }
   ],
   "source": [
    "#Q3)\n",
    "#(i)--->\n",
    "# '/' this is the basic division which we always do\n",
    "# Ex -  \n",
    "4/2"
   ]
  },
  {
   "cell_type": "code",
   "execution_count": 4,
   "id": "0b788c8e-f9c3-4562-9a0a-13f053a29610",
   "metadata": {},
   "outputs": [
    {
     "data": {
      "text/plain": [
       "2"
      ]
     },
     "execution_count": 4,
     "metadata": {},
     "output_type": "execute_result"
    }
   ],
   "source": [
    "#(ii)--->\n",
    "# '%' this gives us the remainder \n",
    "# Ex - \n",
    "10%4"
   ]
  },
  {
   "cell_type": "code",
   "execution_count": 5,
   "id": "736d2de2-c606-473e-b220-7cad3cd4e119",
   "metadata": {},
   "outputs": [
    {
     "data": {
      "text/plain": [
       "2"
      ]
     },
     "execution_count": 5,
     "metadata": {},
     "output_type": "execute_result"
    }
   ],
   "source": [
    "#(iii)--->\n",
    "# '//' this is basically the floor division, it just gives us the floor value of the quotient\n",
    "# Ex - \n",
    "5//2"
   ]
  },
  {
   "cell_type": "code",
   "execution_count": 6,
   "id": "b4f53f95-1828-42eb-9a9a-e0d65ba6a4cb",
   "metadata": {},
   "outputs": [
    {
     "data": {
      "text/plain": [
       "3"
      ]
     },
     "execution_count": 6,
     "metadata": {},
     "output_type": "execute_result"
    }
   ],
   "source": [
    "10//3"
   ]
  },
  {
   "cell_type": "code",
   "execution_count": 7,
   "id": "eaf2f581-dccd-4abc-8374-433e5408a92d",
   "metadata": {},
   "outputs": [
    {
     "data": {
      "text/plain": [
       "81"
      ]
     },
     "execution_count": 7,
     "metadata": {},
     "output_type": "execute_result"
    }
   ],
   "source": [
    "#(iv)--->\n",
    "# '**' this is nothing but a number x raised to the power of y\n",
    "# Ex - \n",
    "3**4"
   ]
  },
  {
   "cell_type": "code",
   "execution_count": 11,
   "id": "f86161f6-de97-4ed6-aad7-72e3f52543f3",
   "metadata": {},
   "outputs": [
    {
     "name": "stdout",
     "output_type": "stream",
     "text": [
      "2 <class 'int'>\n",
      "3 <class 'int'>\n",
      "5 <class 'int'>\n",
      "7 <class 'int'>\n",
      "(5, 6, 7) <class 'tuple'>\n",
      "ayo mr. white <class 'str'>\n",
      "4.0 <class 'float'>\n",
      "[22, 33, 44] <class 'list'>\n",
      "9 <class 'int'>\n",
      "10 <class 'int'>\n"
     ]
    }
   ],
   "source": [
    "#Q4)\n",
    "lis1 = [2,3,5,7,(5,6,7),'ayo mr. white',4.0,[22,33,44],9,10]\n",
    "for i in lis1:\n",
    "  print(i,type(i))"
   ]
  },
  {
   "cell_type": "code",
   "execution_count": 13,
   "id": "932dd83d-f7cc-4289-b73f-0f0227098efc",
   "metadata": {},
   "outputs": [
    {
     "name": "stdin",
     "output_type": "stream",
     "text": [
      "Enter the no. you wanna divide 21\n",
      "Enter the no. you wanna divide with 3\n"
     ]
    },
    {
     "name": "stdout",
     "output_type": "stream",
     "text": [
      "Yes 21 is purely divisible by 3 in 7 times\n"
     ]
    }
   ],
   "source": [
    "#Q5)\n",
    "x = int(input(\"Enter the no. you wanna divide\"))\n",
    "y = int(input(\"Enter the no. you wanna divide with\"))\n",
    "if x%y==0:\n",
    "  print(\"Yes\",x, \"is purely divisible by\",y,\"in\", int(x/y) , \"times\")\n",
    "else:\n",
    "  print(\"No\",x,\"is not purely divisible by\",y)"
   ]
  },
  {
   "cell_type": "code",
   "execution_count": 16,
   "id": "bd399ec6-5669-40ef-bf59-4a81078ea854",
   "metadata": {},
   "outputs": [
    {
     "name": "stdout",
     "output_type": "stream",
     "text": [
      "1 is not divisible by 3\n",
      "2 is not divisible by 3\n",
      "3 is divisible by 3\n",
      "4 is not divisible by 3\n",
      "5 is not divisible by 3\n",
      "6 is divisible by 3\n",
      "7 is not divisible by 3\n",
      "8 is not divisible by 3\n",
      "9 is divisible by 3\n",
      "10 is not divisible by 3\n",
      "11 is not divisible by 3\n",
      "12 is divisible by 3\n",
      "13 is not divisible by 3\n",
      "14 is not divisible by 3\n",
      "15 is divisible by 3\n",
      "16 is not divisible by 3\n",
      "17 is not divisible by 3\n",
      "18 is divisible by 3\n",
      "19 is not divisible by 3\n",
      "20 is not divisible by 3\n",
      "21 is divisible by 3\n",
      "22 is not divisible by 3\n",
      "23 is not divisible by 3\n",
      "24 is divisible by 3\n",
      "25 is not divisible by 3\n"
     ]
    }
   ],
   "source": [
    "#Q6)\n",
    "lis2 = []\n",
    "for i in range(1,26):\n",
    "  lis2.append(i)\n",
    "\n",
    "for j in lis2:\n",
    "  if j%3==0:\n",
    "    print(j,\"is divisible by 3\")\n",
    "  else:\n",
    "    print(j,\"is not divisible by 3\")"
   ]
  },
  {
   "cell_type": "code",
   "execution_count": 17,
   "id": "707ae15d-decd-4296-b366-846c0c34dcb4",
   "metadata": {},
   "outputs": [
    {
     "name": "stdout",
     "output_type": "stream",
     "text": [
      "[1, 4, 3]\n"
     ]
    }
   ],
   "source": [
    "#Q7)\n",
    "#Mutable data type means a data type in wich we can change the value at the index place of that particular data type\n",
    "#for ex-\n",
    "lis3 = [1,2,3]\n",
    "lis3[1] = 4\n",
    "print(lis3)"
   ]
  },
  {
   "cell_type": "code",
   "execution_count": 18,
   "id": "34ca43cd-1680-4c0c-b03b-2d6ed3c97017",
   "metadata": {},
   "outputs": [
    {
     "ename": "TypeError",
     "evalue": "'str' object does not support item assignment",
     "output_type": "error",
     "traceback": [
      "\u001b[0;31m---------------------------------------------------------------------------\u001b[0m",
      "\u001b[0;31mTypeError\u001b[0m                                 Traceback (most recent call last)",
      "Cell \u001b[0;32mIn[18], line 4\u001b[0m\n\u001b[1;32m      1\u001b[0m \u001b[38;5;66;03m#Immutable data type means a data type in which the we can't change the value at the index place\u001b[39;00m\n\u001b[1;32m      2\u001b[0m \u001b[38;5;66;03m#for ex-\u001b[39;00m\n\u001b[1;32m      3\u001b[0m v \u001b[38;5;241m=\u001b[39m \u001b[38;5;124m\"\u001b[39m\u001b[38;5;124mhello\u001b[39m\u001b[38;5;124m\"\u001b[39m\n\u001b[0;32m----> 4\u001b[0m \u001b[43mv\u001b[49m\u001b[43m[\u001b[49m\u001b[38;5;241;43m3\u001b[39;49m\u001b[43m]\u001b[49m \u001b[38;5;241m=\u001b[39m \u001b[38;5;124m'\u001b[39m\u001b[38;5;124mh\u001b[39m\u001b[38;5;124m'\u001b[39m\n\u001b[1;32m      5\u001b[0m \u001b[38;5;66;03m#Ex2-\u001b[39;00m\n\u001b[1;32m      6\u001b[0m t \u001b[38;5;241m=\u001b[39m (\u001b[38;5;241m1\u001b[39m,\u001b[38;5;241m2\u001b[39m,\u001b[38;5;241m3\u001b[39m)\n",
      "\u001b[0;31mTypeError\u001b[0m: 'str' object does not support item assignment"
     ]
    }
   ],
   "source": [
    "#Immutable data type means a data type in which the we can't change the value at the index place\n",
    "#for ex-\n",
    "v = \"hello\"\n",
    "v[3] = 'h'\n",
    "#Ex2-\n",
    "t = (1,2,3)\n",
    "t[2] = 5"
   ]
  },
  {
   "cell_type": "code",
   "execution_count": null,
   "id": "1b1e67dc-ecb6-476e-92ae-35279bcce0d6",
   "metadata": {},
   "outputs": [],
   "source": [
    "#As you can see it is giving us an error because the String And Tuple Data Types are "
   ]
  }
 ],
 "metadata": {
  "kernelspec": {
   "display_name": "Python 3 (ipykernel)",
   "language": "python",
   "name": "python3"
  },
  "language_info": {
   "codemirror_mode": {
    "name": "ipython",
    "version": 3
   },
   "file_extension": ".py",
   "mimetype": "text/x-python",
   "name": "python",
   "nbconvert_exporter": "python",
   "pygments_lexer": "ipython3",
   "version": "3.10.8"
  }
 },
 "nbformat": 4,
 "nbformat_minor": 5
}
